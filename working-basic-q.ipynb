{
 "cells": [
  {
   "cell_type": "code",
   "execution_count": 1,
   "id": "78e5dde7",
   "metadata": {},
   "outputs": [],
   "source": [
    "## Standard libraries\n",
    "import os\n",
    "import math\n",
    "import numpy as np\n",
    "import time\n",
    "\n",
    "## Imports for plotting\n",
    "import matplotlib.pyplot as plt\n",
    "\n",
    "## Progress bar\n",
    "from tqdm.notebook import tqdm"
   ]
  },
  {
   "cell_type": "code",
   "execution_count": 2,
   "id": "35a79adc",
   "metadata": {},
   "outputs": [
    {
     "name": "stdout",
     "output_type": "stream",
     "text": [
      "Using torch 1.12.1+cu102\n"
     ]
    }
   ],
   "source": [
    "import torch\n",
    "import torch.nn as nn\n",
    "print(\"Using torch\", torch.__version__)"
   ]
  },
  {
   "cell_type": "code",
   "execution_count": 3,
   "id": "4cab298d",
   "metadata": {},
   "outputs": [],
   "source": [
    "class DG_Agent:\n",
    "    \n",
    "    def __init__(self, seed, layer_sizes, alpha, gamma):\n",
    "        torch.manual_seed(seed)\n",
    "        self.alpha = alpha\n",
    "        self.gamma = gamma\n",
    "        self.action_space_len = layer_sizes[len(layer_sizes) - 1]\n",
    "        net, layers = self.build_nn(layer_sizes)\n",
    "        self.net = net\n",
    "        self.layers = layers\n",
    "            \n",
    "        # self.net.cuda()\n",
    "        self.loss_fn = nn.MSELoss()\n",
    "        \n",
    "        return\n",
    "        \n",
    "    def build_nn(self, layer_sizes):\n",
    "        assert len(layer_sizes) > 1\n",
    "        model_layers = []\n",
    "        layers = []\n",
    "        for index in range(len(layer_sizes)-1):\n",
    "            linear = nn.Linear(layer_sizes[index], layer_sizes[index+1])\n",
    "            #nn.init.normal_(linear.weight, 0, 1/np.sqrt(layer_sizes[index]))\n",
    "            #nn.init.normal_(linear.bias, 0, 1/np.sqrt(layer_sizes[index]))\n",
    "            nn.init.xavier_normal_(linear.weight)\n",
    "            #nn.init.xavier_normal_(linear.bias)\n",
    "\n",
    "            act = nn.Tanh() if index < len(layer_sizes)-2 else nn.Identity()#nn.Softmax(dim=1)\n",
    "            model_layers += (linear,act)\n",
    "            layers.append(linear)\n",
    "        return nn.Sequential(*model_layers), layers\n",
    "    \n",
    "    def step(self, state, explore=True, epsilon = 0, log=False):\n",
    "        self.net.zero_grad()\n",
    "        output = self.net(torch.from_numpy(state).float())#.cuda()\n",
    "        \n",
    "        if epsilon == 0:\n",
    "            if not explore:\n",
    "                #action = torch.multinomial(output, 1)\n",
    "                value, action = torch.max(output, axis=1)\n",
    "                action = action.item() \n",
    "            else:\n",
    "                value, action = torch.max(output, axis=1)\n",
    "                action = action.item() \n",
    "        else:\n",
    "            value, action = torch.max(output, axis=1)\n",
    "            action = action.item() if torch.rand(1,).item() > epsilon else torch.randint(0,self.action_space_len,(1,)).item()\n",
    "        \n",
    "        if log:\n",
    "            print(\"step \", state, output, action)\n",
    "        \n",
    "        return action\n",
    "\n",
    "    # takes in an episode of experience's state action reward list\n",
    "    def train(self, sar_list):\n",
    "        losses = []\n",
    "        decaying_future_reward = 0\n",
    "        \n",
    "        layer_changes = []\n",
    "        for i, layer in enumerate(self.layers):  \n",
    "            layer_changes.append((torch.zeros(layer.weight.shape), torch.zeros(layer.bias.shape)))\n",
    "        \n",
    "        for state, action, reward in reversed(sar_list):\n",
    "            self.net.zero_grad()\n",
    "            \n",
    "            decaying_future_reward *= self.gamma\n",
    "            decaying_future_reward += reward\n",
    "            \n",
    "            output = self.net(torch.from_numpy(state).float())#.cuda()\n",
    "            \n",
    "            target_return = output.clone().detach()\n",
    "            target_return[0][action] = decaying_future_reward\n",
    "        \n",
    "            loss = self.loss_fn(output, target_return)\n",
    "            loss.backward()\n",
    "            losses.append(loss.item())\n",
    "            \n",
    "            for i, layer in enumerate(self.layers):                                \n",
    "                layer_changes[i][0].add_(layer.weight.grad)\n",
    "                layer_changes[i][1].add_(layer.bias.grad)\n",
    "        \n",
    "        with torch.no_grad():\n",
    "            for i, layer in enumerate(self.layers):                                \n",
    "                layer.weight -= (layer_changes[i][0]  * self.alpha) / len(sar_list)\n",
    "                layer.bias -=  (layer_changes[i][1]  * self.alpha) / len(sar_list)\n",
    "                \n",
    "        return losses\n"
   ]
  },
  {
   "cell_type": "code",
   "execution_count": 4,
   "id": "ea7f06d0",
   "metadata": {},
   "outputs": [
    {
     "name": "stdout",
     "output_type": "stream",
     "text": [
      "accuracy:  0.979\n"
     ]
    },
    {
     "data": {
      "image/png": "[encoded data removed]",
      "text/plain": [
       "<Figure size 432x288 with 1 Axes>"
      ]
     },
     "metadata": {
      "needs_background": "light"
     },
     "output_type": "display_data"
    }
   ],
   "source": [
    "rewards = []\n",
    "losses = []\n",
    "agent = DG_Agent(seed=422, layer_sizes=[2, 64, 2], alpha=.001, gamma=0)\n",
    "np.random.seed(422)\n",
    "train_iters = 10000\n",
    "eval_iters = 1000\n",
    "\n",
    "\n",
    "# train on random crap\n",
    "for i in range(train_iters):\n",
    "    sars = []\n",
    "    input = np.random.rand(1, 2)    \n",
    "    action = agent.step(input, epsilon=i/train_iters)\n",
    "        \n",
    "    reward = 0\n",
    "    value = np.max(input, axis=1)\n",
    "    if value == input[0][action]:\n",
    "        reward = 1\n",
    "    else:\n",
    "        reward = -1\n",
    "    \n",
    "    sars.append((input, action, reward))\n",
    "    \n",
    "    #print(output, action)\n",
    "    # TODO: apply in place gets different end result than apply pending which is an issue\n",
    "    # need to get apply pending to work to make training more stable\n",
    "    train_losses = agent.train(sars)\n",
    "    losses.extend(train_losses)\n",
    "\n",
    "    #if i % 32 == 0:\n",
    "        #agent.apply_pending_grads()\n",
    "\n",
    "hits = 0\n",
    "for i in range(eval_iters):\n",
    "    input = np.random.rand(1, 2)    \n",
    "    action = agent.step(input, explore=False)\n",
    "    \n",
    "    reward = 0\n",
    "    value = np.max(input, axis=1)\n",
    "    if value == input[0][action]:\n",
    "        reward = 1\n",
    "        hits += 1\n",
    "    else:\n",
    "        reward = -1\n",
    "    \n",
    "    #print(output, action)\n",
    "    rewards.append(reward)\n",
    "    #agent.train(output, action, reward)\n",
    "\n",
    "print(\"accuracy: \", hits / eval_iters)\n",
    "plt.cla()\n",
    "plt.plot(losses)\n",
    "plt.show()"
   ]
  },
  {
   "cell_type": "code",
   "execution_count": 131,
   "id": "7c1ecc97",
   "metadata": {},
   "outputs": [
    {
     "data": {
      "image/png": "[encoded data removed]",
      "text/plain": [
       "<Figure size 432x288 with 1 Axes>"
      ]
     },
     "metadata": {
      "needs_background": "light"
     },
     "output_type": "display_data"
    },
    {
     "data": {
      "image/png": "[encoded data removed]",
      "text/plain": [
       "<Figure size 432x288 with 1 Axes>"
      ]
     },
     "metadata": {
      "needs_background": "light"
     },
     "output_type": "display_data"
    },
    {
     "name": "stdout",
     "output_type": "stream",
     "text": [
      "avg fitnesses 500.0\n"
     ]
    },
    {
     "data": {
      "image/png": "[encoded data removed]",
      "text/plain": [
       "<Figure size 432x288 with 1 Axes>"
      ]
     },
     "metadata": {
      "needs_background": "light"
     },
     "output_type": "display_data"
    }
   ],
   "source": [
    "import gym\n",
    "env = gym.make(\"CartPole-v1\")\n",
    "observation, info = env.reset()# seed=42\n",
    "\n",
    "rewards = []\n",
    "losses = []\n",
    "agent = DG_Agent(seed=42, layer_sizes=[4, 64, 2], alpha=.01, gamma=.95)\n",
    "np.random.seed(42)\n",
    "\n",
    "train_iters = 10000\n",
    "eval_iters = 1\n",
    "\n",
    "# train\n",
    "for i in range(train_iters):\n",
    "    env_seed = np.random.randint(0, 1000)\n",
    "    observation, info = env.reset(seed=env_seed)# seed=42\n",
    "    sars = []\n",
    "    total_reward = 0\n",
    "    for k in range(1000):\n",
    "        input_array = np.array(observation)\n",
    "        input_array = input_array.reshape((1, 4))\n",
    "        \n",
    "        if (i % 10 == 0):\n",
    "            action = agent.step(input_array, explore=False)\n",
    "        else:\n",
    "            action = agent.step(input_array, epsilon=(train_iters - float(i))/train_iters)\n",
    "            \n",
    "        observation, reward, terminated, truncated, info = env.step(action)\n",
    "        \n",
    "        training_reward = 0\n",
    "        if np.abs(observation[2]) < .5:\n",
    "            training_reward = 1\n",
    "        \n",
    "        if np.abs(observation[2]) > 1.5:\n",
    "            training_reward = -1\n",
    "            \n",
    "        if np.abs(observation[1]) > 1:\n",
    "            training_reward = -1\n",
    "        \n",
    "        if terminated:\n",
    "            training_reward = -1\n",
    "        \n",
    "        total_reward += reward\n",
    "        sars.append((input_array, action, reward))\n",
    "        \n",
    "        if terminated or truncated:\n",
    "            terminated = False\n",
    "            truncated = False\n",
    "            break\n",
    "    \n",
    "    train_losses = agent.train(sars)\n",
    "    \n",
    "    if (i % 10 == 0):\n",
    "        rewards.append(total_reward)\n",
    "        losses.extend(train_losses)\n",
    "                \n",
    "plt.plot(losses)\n",
    "plt.show()\n",
    "\n",
    "plt.plot(rewards)\n",
    "plt.show()\n",
    "\n",
    "# eval \n",
    "fitnesses = []\n",
    "tot = 0\n",
    "for i in range(eval_iters):\n",
    "    env_seed = np.random.randint(0, 1000)\n",
    "    observation, info = env.reset(seed=env_seed)#seed=env_seed)# seed=42\n",
    "    fitness = 0\n",
    "    for k in range(1000): \n",
    "        input_array = np.array(observation)\n",
    "        input_array = input_array.reshape((1, 4))\n",
    "        action = agent.step(input_array, explore=False)#, log=True)#, explore=False)\n",
    "        observation, reward, terminated, truncated, info = env.step(action)\n",
    "\n",
    "        fitness += 1\n",
    "        tot += 1\n",
    "        \n",
    "        if terminated or truncated:\n",
    "            terminated = False\n",
    "            truncated = False\n",
    "            break\n",
    "            \n",
    "    fitnesses.append(fitness)\n",
    "\n",
    "print(\"avg fitnesses\", tot / eval_iters)\n",
    "# print(\"accuracy: \", hits / eval_iters)\n",
    "plt.cla()\n",
    "plt.plot(fitnesses)\n",
    "plt.show()"
   ]
  },
  {
   "cell_type": "code",
   "execution_count": 134,
   "id": "04bb4123",
   "metadata": {},
   "outputs": [
    {
     "data": {
      "image/png": "[encoded data removed]",
      "text/plain": [
       "<Figure size 432x288 with 1 Axes>"
      ]
     },
     "metadata": {
      "needs_background": "light"
     },
     "output_type": "display_data"
    },
    {
     "data": {
      "image/png": "[encoded data removed]",
      "text/plain": [
       "<Figure size 432x288 with 1 Axes>"
      ]
     },
     "metadata": {
      "needs_background": "light"
     },
     "output_type": "display_data"
    },
    {
     "name": "stdout",
     "output_type": "stream",
     "text": [
      "avg fitnesses 200.0\n"
     ]
    },
    {
     "data": {
      "image/png": "[encoded data removed]",
      "text/plain": [
       "<Figure size 432x288 with 1 Axes>"
      ]
     },
     "metadata": {
      "needs_background": "light"
     },
     "output_type": "display_data"
    }
   ],
   "source": [
    "import gym\n",
    "env = gym.make(\"MountainCar-v0\")\n",
    "observation, info = env.reset()# seed=42\n",
    "\n",
    "rewards = []\n",
    "losses = []\n",
    "agent = DG_Agent(seed=42, layer_sizes=[2, 64, 3], alpha=.01, gamma=.95)\n",
    "np.random.seed(42)\n",
    "\n",
    "train_iters = 10000\n",
    "eval_iters = 1\n",
    "\n",
    "# train\n",
    "for i in range(train_iters):\n",
    "    env_seed = np.random.randint(0, 1000)\n",
    "    observation, info = env.reset(seed=env_seed)# seed=42\n",
    "    sars = []\n",
    "    total_reward = 0\n",
    "    for k in range(1000):\n",
    "        input_array = np.array(observation)\n",
    "        input_array = input_array.reshape((1, 2))\n",
    "        \n",
    "        if (i % 10 == 0):\n",
    "            action = agent.step(input_array, explore=False)\n",
    "        else:\n",
    "            action = agent.step(input_array, epsilon=(train_iters - float(i))/train_iters)\n",
    "            \n",
    "        observation, reward, terminated, truncated, info = env.step(action)\n",
    "        \n",
    "        total_reward += reward\n",
    "        sars.append((input_array, action, reward))\n",
    "        \n",
    "        if terminated or truncated:\n",
    "            terminated = False\n",
    "            truncated = False\n",
    "            break\n",
    "    \n",
    "    train_losses = agent.train(sars)\n",
    "    \n",
    "    if (i % 10 == 0):\n",
    "        rewards.append(total_reward)\n",
    "        losses.extend(train_losses)\n",
    "                \n",
    "plt.plot(losses)\n",
    "plt.show()\n",
    "\n",
    "plt.plot(rewards)\n",
    "plt.show()\n",
    "\n",
    "# eval \n",
    "fitnesses = []\n",
    "tot = 0\n",
    "for i in range(eval_iters):\n",
    "    env_seed = np.random.randint(0, 1000)\n",
    "    observation, info = env.reset(seed=env_seed)#seed=env_seed)# seed=42\n",
    "    fitness = 0\n",
    "    for k in range(1000): \n",
    "        input_array = np.array(observation)\n",
    "        input_array = input_array.reshape((1, 2))\n",
    "        action = agent.step(input_array, explore=False)#, log=True)#, explore=False)\n",
    "        observation, reward, terminated, truncated, info = env.step(action)\n",
    "\n",
    "        fitness += 1\n",
    "        tot += 1\n",
    "        \n",
    "        if terminated or truncated:\n",
    "            terminated = False\n",
    "            truncated = False\n",
    "            break\n",
    "            \n",
    "    fitnesses.append(fitness)\n",
    "\n",
    "print(\"avg fitnesses\", tot / eval_iters)\n",
    "# print(\"accuracy: \", hits / eval_iters)\n",
    "plt.cla()\n",
    "plt.plot(fitnesses)\n",
    "plt.show()"
   ]
  },
  {
   "cell_type": "code",
   "execution_count": null,
   "id": "2a534832",
   "metadata": {},
   "outputs": [],
   "source": []
  }
 ],
 "metadata": {
  "kernelspec": {
   "display_name": "Python 3 (ipykernel)",
   "language": "python",
   "name": "python3"
  },
  "language_info": {
   "codemirror_mode": {
    "name": "ipython",
    "version": 3
   },
   "file_extension": ".py",
   "mimetype": "text/x-python",
   "name": "python",
   "nbconvert_exporter": "python",
   "pygments_lexer": "ipython3",
   "version": "3.9.12"
  }
 },
 "nbformat": 4,
 "nbformat_minor": 5
}
